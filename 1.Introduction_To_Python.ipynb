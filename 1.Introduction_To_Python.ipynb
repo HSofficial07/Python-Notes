{
  "nbformat": 4,
  "nbformat_minor": 0,
  "metadata": {
    "colab": {
      "provenance": [],
      "authorship_tag": "ABX9TyPZZEKgJMBuCmwIeKCxEDuv",
      "include_colab_link": true
    },
    "kernelspec": {
      "name": "python3",
      "display_name": "Python 3"
    },
    "language_info": {
      "name": "python"
    }
  },
  "cells": [
    {
      "cell_type": "markdown",
      "metadata": {
        "id": "view-in-github",
        "colab_type": "text"
      },
      "source": [
        "<a href=\"https://colab.research.google.com/github/HSofficial07/Python-Notes/blob/main/1.Introduction_To_Python.ipynb\" target=\"_parent\"><img src=\"https://colab.research.google.com/assets/colab-badge.svg\" alt=\"Open In Colab\"/></a>"
      ]
    },
    {
      "cell_type": "markdown",
      "source": [
        "# **Introduction**\n",
        "\n",
        "Welcome to the world of Python programming, where you can do amazing things with just a few lines of code! 🎉\n",
        "\n",
        "Python is a programming language used to create software and programs, and it's especially popular in the field of data science. With Python, you can analyze data, create graphs and charts, and even build simple machine learning models to predict outcomes. 📈🧮\n",
        "\n",
        "Whether you're working with customer data, financial data, or any other kind of data, Python has the tools you need to make sense of it all. And the best part, Python is easy to learn and use, making it perfect for beginners who want to dive into the world of programming, making it the ideal choice for your Data Science journey.\n",
        "\n"
      ],
      "metadata": {
        "id": "8P_Rqb5hhEfj"
      }
    },
    {
      "cell_type": "markdown",
      "source": [
        "##Introduction to Python Programming\n",
        "\n",
        "You will begin your journey into Python programming, which is one of the most popular programming languages in the field of data science. Python is known for its versatility and power, making it a suitable choice for various data science tasks, such as data cleaning, preprocessing, analysis, and modeling. Learning Python will provide you with access to a wide range of libraries and tools that are specifically designed for data science, which can make your work with data much more efficient and effective.\n",
        "\n"
      ],
      "metadata": {
        "id": "ulLekFUfiFD0"
      }
    },
    {
      "cell_type": "markdown",
      "source": [
        "##Why Python 🐍\n",
        "Python is a good choice for beginners in data science for several reasons.\n",
        "\n",
        "1. Python has a simple and easy-to-learn syntax that is designed to be readable and resembles the English language. This makes it easy for beginners to write code and understand what is happening in their code.\n",
        "2. Python has a vast array of libraries and tools that are specifically designed for data science, including NumPy, Pandas, Matplotlib, and Scikit-learn. These libraries are essential for data manipulation, visualization, and machine learning tasks.\n",
        "3. Python has a large open source community that provides support, tutorials, and documentation, making it easier for beginners to learn and use Python for data science tasks.\n",
        "4. Python is a flexible language that can be used for a wide range of data science tasks and can handle large datasets.\n",
        "\n",
        "\n",
        "Overall, Python's simplicity, vast array of libraries, open source community, and flexibility make it an excellent choice for beginners in data science."
      ],
      "metadata": {
        "id": "1oqPX_MdiPaa"
      }
    },
    {
      "cell_type": "markdown",
      "source": [
        "#**1. Basic Data Types**\n",
        "\n",
        "  a. Integer (Numbers: 1,2,3,4,5)\n",
        "\n",
        "  b. Float (Decimals: 1.0, 202, 3.5)\n",
        "\n",
        "  c. Boolean (True and False)\n",
        "\n",
        "  d. String (Text: abcdeghijklmnopqrstuvwxyz)\n"
      ],
      "metadata": {
        "id": "2h9cfOf3qHmo"
      }
    },
    {
      "cell_type": "markdown",
      "source": [
        "#Basic Operation in Python\n",
        "\n",
        "1. Addition ( + )\n",
        "\n",
        "2. Subtraction ( - )\n",
        "\n",
        "3. Multiplication ( * )\n",
        "\n",
        "4. Division ( / )\n",
        "\n",
        "5. Power ( ** )\n",
        "\n",
        "6. Floor Division ( // ) : Quotient\n",
        "\n",
        "7. Modulus ( % ) : Remainder"
      ],
      "metadata": {
        "id": "sIYeOFpZqJP9"
      }
    },
    {
      "cell_type": "code",
      "source": [
        "#Print Funtion Syntax in Python\n",
        "print(\"Hello World\")"
      ],
      "metadata": {
        "id": "9JnBL1ahqeA1",
        "outputId": "8c080772-644e-484f-af67-f7074132d33e",
        "colab": {
          "base_uri": "https://localhost:8080/"
        }
      },
      "execution_count": 3,
      "outputs": [
        {
          "output_type": "stream",
          "name": "stdout",
          "text": [
            "Hello World\n"
          ]
        }
      ]
    },
    {
      "cell_type": "code",
      "source": [
        "#Basic Mathematical Operation in Python\n",
        "print(200+600)\n",
        "print(9000-8888)\n",
        "print(245*255)\n",
        "print(375/25)\n",
        "print(2**8)\n",
        "print(55//8)\n",
        "print(55%8)"
      ],
      "metadata": {
        "id": "UHlvY0Noqfc3",
        "outputId": "55af9048-c942-4482-96ab-0a6707d81210",
        "colab": {
          "base_uri": "https://localhost:8080/"
        }
      },
      "execution_count": 2,
      "outputs": [
        {
          "output_type": "stream",
          "name": "stdout",
          "text": [
            "800\n",
            "112\n",
            "62475\n",
            "15.0\n",
            "256\n",
            "6\n",
            "7\n"
          ]
        }
      ]
    },
    {
      "cell_type": "markdown",
      "source": [
        "# **Variables**\n",
        "\n",
        "* Variables are containers for storing data values.\n",
        "\n",
        "* Variables are Case-Sensitive. A and a are different."
      ],
      "metadata": {
        "id": "80VF1RZh9eLt"
      }
    },
    {
      "cell_type": "code",
      "source": [
        "x= 4\n",
        "y = 5\n",
        "z = x**y\n",
        "print(z)"
      ],
      "metadata": {
        "id": "ZFiELsmi9bGu",
        "outputId": "b34932d7-4eaf-4ec5-c49b-3e28a8f1c5bd",
        "colab": {
          "base_uri": "https://localhost:8080/"
        }
      },
      "execution_count": 4,
      "outputs": [
        {
          "output_type": "stream",
          "name": "stdout",
          "text": [
            "1024\n"
          ]
        }
      ]
    },
    {
      "cell_type": "markdown",
      "source": [
        "**📖 Do you Know 📖**\n",
        "\n",
        "operator precedence in python follows the **BODMAS** rule for arithmetic expressions. The precedence of operators is listed below in a high to low manner.\n",
        "\n",
        "Firstly, parantheses will be evaluated, then exponentiation and so on.\n",
        "\n",
        "B – Bracket\n",
        "\n",
        "O – Order\n",
        "\n",
        "D – Division\n",
        "\n",
        "M – Multiplication\n",
        "\n",
        "A – Addition\n",
        "\n",
        "S – Subtraction\n",
        "\n",
        "\n",
        "**BODMAS nostalgia** (BODMAS :- Bracket, Order, Division, Multiplication, Addition, Substraction)\n",
        "\n",
        "(5 + 2) * 3 ** 2 - 1\n",
        "\n",
        "=7*3 ** 2 - 1\n",
        "\n",
        "=7*9-1\n",
        "\n",
        "=63-1\n",
        "\n",
        "=62"
      ],
      "metadata": {
        "id": "PVErqfdR9itl"
      }
    },
    {
      "cell_type": "code",
      "source": [],
      "metadata": {
        "id": "g5LxgEgm9kG0"
      },
      "execution_count": null,
      "outputs": []
    }
  ]
}